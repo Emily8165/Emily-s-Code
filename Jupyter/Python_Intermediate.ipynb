{
 "cells": [
  {
   "cell_type": "code",
   "execution_count": 31,
   "metadata": {},
   "outputs": [],
   "source": [
    "#Alot more flexablity in python pandas. \n",
    "#works with much larger data sets. \n",
    "import pandas as pd \n",
    "\n",
    "df = pd.read_csv('/Users/emilyharris/Python Stuff/data/Random_CVS.csv')\n",
    "#print(df)\n",
    "\n",
    "#print(df.columns) #tells you the columns\n",
    "\n",
    "#print(df[['Calories', 'Duration']][0:5]) # used to get a single/multiple columns data an position.\n",
    "\n",
    "#print(df.iloc[1:4])#this is to print out specific rows\n",
    "\n",
    "#print(df.iloc[2, 1])#printing out specific datas. specific positons. \n",
    "\n",
    "#for index, row in df.iterrows(): #used to iterate thorugh each row\n",
    "    #print(index, row['Calories'])\n",
    "#df.loc[df['Calories'] == '200']# THIS IS HOW TO USE FILTERS\n",
    "\n",
    "#df.describe() #gives quick metrics of all averages. \n",
    "\n",
    "#df.sort_values('Duration', ascending=True) #sorting data into ascending. \n",
    "\n",
    "#df['total'] = df['Duration'] + df['Calories'] + df['Pulse'] + df['Maxpulse'] #making changes to the data ADDING IN THE TOTALS. \n",
    "#df.head(5)\n",
    "\n",
    "#df = df.drop(columns=['Duration']) # how to drop a column\n",
    "\n",
    "#df[['Calories', 'Duration']]#moving columns\n",
    "#cols = list(df.columns.values)\n",
    "#df = df[cols[0:1] + [cols[-1]] + cols[1:4]]\n",
    "#print(df)\n",
    "\n",
    "df.to_csv('modified.csv') # this is how to save a new CSV. \n",
    "df.to_csv('modified.csv', index = False) # removes the indexes. \n",
    "df.to_excel('modified.xlsx', index = False) # to excel\n",
    "df.to_csv('modified.txt', index = False, sep='/t') # saves to textfile. \n",
    "df.loc[df['Duration'] == 200]\n",
    "\n",
    "\n"
   ]
  },
  {
   "cell_type": "code",
   "execution_count": null,
   "metadata": {},
   "outputs": [],
   "source": [
    "#FILTERING DATA\n",
    "import re # means regular expresseions used for textures and patterens. \n",
    "# regex is used to filter by textures. \n"
   ]
  },
  {
   "cell_type": "code",
   "execution_count": 33,
   "metadata": {},
   "outputs": [
    {
     "name": "stdout",
     "output_type": "stream",
     "text": [
      "    Duration Pulse Maxpulse Calories\n",
      "0         60   110      130    409.1\n",
      "1         60   117      145    479.0\n",
      "2         60   103      135    340.0\n",
      "3         45   109      175    282.4\n",
      "4         45   117      148    406.0\n",
      "..       ...   ...      ...      ...\n",
      "164       60   105      140    290.8\n",
      "165       60   110      145    300.0\n",
      "166       60   115      145    310.2\n",
      "167       75   120      150    320.4\n",
      "168       75   125      150    330.4\n",
      "\n",
      "[169 rows x 4 columns]\n"
     ]
    }
   ],
   "source": [
    "df.loc[df['Duration'] == 'Calories'] = True\n",
    "print(df)"
   ]
  }
 ],
 "metadata": {
  "kernelspec": {
   "display_name": ".venv",
   "language": "python",
   "name": "python3"
  },
  "language_info": {
   "codemirror_mode": {
    "name": "ipython",
    "version": 3
   },
   "file_extension": ".py",
   "mimetype": "text/x-python",
   "name": "python",
   "nbconvert_exporter": "python",
   "pygments_lexer": "ipython3",
   "version": "3.10.9 (main, Dec 15 2022, 10:44:50) [Clang 14.0.0 (clang-1400.0.29.202)]"
  },
  "orig_nbformat": 4,
  "vscode": {
   "interpreter": {
    "hash": "ae62252a9a1e07c2ea893ba303f668e889de086ffe64fb2335c1d6cc0b7620e6"
   }
  }
 },
 "nbformat": 4,
 "nbformat_minor": 2
}
